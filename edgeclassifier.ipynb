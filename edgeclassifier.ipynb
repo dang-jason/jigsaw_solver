{
 "cells": [
  {
   "cell_type": "code",
   "execution_count": 93,
   "metadata": {},
   "outputs": [
    {
     "name": "stdout",
     "output_type": "stream",
     "text": [
      "Requirement already satisfied: pandas in c:\\users\\patel\\appdata\\local\\packages\\pythonsoftwarefoundation.python.3.10_qbz5n2kfra8p0\\localcache\\local-packages\\python310\\site-packages (2.1.3)\n",
      "Requirement already satisfied: numpy<2,>=1.22.4 in c:\\users\\patel\\appdata\\local\\packages\\pythonsoftwarefoundation.python.3.10_qbz5n2kfra8p0\\localcache\\local-packages\\python310\\site-packages (from pandas) (1.26.0)\n",
      "Requirement already satisfied: python-dateutil>=2.8.2 in c:\\users\\patel\\appdata\\local\\packages\\pythonsoftwarefoundation.python.3.10_qbz5n2kfra8p0\\localcache\\local-packages\\python310\\site-packages (from pandas) (2.8.2)\n",
      "Requirement already satisfied: pytz>=2020.1 in c:\\users\\patel\\appdata\\local\\packages\\pythonsoftwarefoundation.python.3.10_qbz5n2kfra8p0\\localcache\\local-packages\\python310\\site-packages (from pandas) (2023.3.post1)\n",
      "Requirement already satisfied: tzdata>=2022.1 in c:\\users\\patel\\appdata\\local\\packages\\pythonsoftwarefoundation.python.3.10_qbz5n2kfra8p0\\localcache\\local-packages\\python310\\site-packages (from pandas) (2023.3)\n",
      "Requirement already satisfied: six>=1.5 in c:\\users\\patel\\appdata\\local\\packages\\pythonsoftwarefoundation.python.3.10_qbz5n2kfra8p0\\localcache\\local-packages\\python310\\site-packages (from python-dateutil>=2.8.2->pandas) (1.16.0)\n",
      "Note: you may need to restart the kernel to use updated packages.\n"
     ]
    },
    {
     "name": "stderr",
     "output_type": "stream",
     "text": [
      "\n",
      "[notice] A new release of pip available: 22.3 -> 23.3.1\n",
      "[notice] To update, run: C:\\Users\\patel\\AppData\\Local\\Microsoft\\WindowsApps\\PythonSoftwareFoundation.Python.3.10_qbz5n2kfra8p0\\python.exe -m pip install --upgrade pip\n"
     ]
    },
    {
     "name": "stdout",
     "output_type": "stream",
     "text": [
      "Collecting scikit-learn\n",
      "  Downloading scikit_learn-1.3.2-cp310-cp310-win_amd64.whl (9.3 MB)\n",
      "     ---------------------------------------- 9.3/9.3 MB 14.8 MB/s eta 0:00:00\n",
      "Collecting joblib>=1.1.1\n",
      "  Downloading joblib-1.3.2-py3-none-any.whl (302 kB)\n",
      "     ------------------------------------- 302.2/302.2 kB 18.2 MB/s eta 0:00:00\n",
      "Requirement already satisfied: numpy<2.0,>=1.17.3 in c:\\users\\patel\\appdata\\local\\packages\\pythonsoftwarefoundation.python.3.10_qbz5n2kfra8p0\\localcache\\local-packages\\python310\\site-packages (from scikit-learn) (1.26.0)\n",
      "Collecting threadpoolctl>=2.0.0\n",
      "  Downloading threadpoolctl-3.2.0-py3-none-any.whl (15 kB)\n",
      "Requirement already satisfied: scipy>=1.5.0 in c:\\users\\patel\\appdata\\local\\packages\\pythonsoftwarefoundation.python.3.10_qbz5n2kfra8p0\\localcache\\local-packages\\python310\\site-packages (from scikit-learn) (1.11.3)\n",
      "Installing collected packages: threadpoolctl, joblib, scikit-learn\n",
      "Successfully installed joblib-1.3.2 scikit-learn-1.3.2 threadpoolctl-3.2.0\n",
      "Note: you may need to restart the kernel to use updated packages.\n"
     ]
    },
    {
     "name": "stderr",
     "output_type": "stream",
     "text": [
      "\n",
      "[notice] A new release of pip available: 22.3 -> 23.3.1\n",
      "[notice] To update, run: C:\\Users\\patel\\AppData\\Local\\Microsoft\\WindowsApps\\PythonSoftwareFoundation.Python.3.10_qbz5n2kfra8p0\\python.exe -m pip install --upgrade pip\n"
     ]
    }
   ],
   "source": [
    "%pip install pandas\n",
    "%pip install -U scikit-learn"
   ]
  },
  {
   "cell_type": "code",
   "execution_count": 134,
   "metadata": {},
   "outputs": [],
   "source": [
    "import numpy as np\n",
    "import pandas as pd\n",
    "from sklearn.linear_model import LogisticRegression\n",
    "from sklearn.model_selection import cross_val_score\n",
    "from sklearn.model_selection import RepeatedStratifiedKFold\n",
    "from sklearn import preprocessing\n",
    "from sklearn import utils\n",
    "import pickle\n"
   ]
  },
  {
   "cell_type": "code",
   "execution_count": 212,
   "metadata": {},
   "outputs": [],
   "source": [
    "bread = np.load(\"relativearr/bread_relativearr.npy\",allow_pickle=True)\n",
    "night = np.load(\"relativearr/night_relativearr.npy\",allow_pickle=True)\n",
    "picnic = np.load(\"relativearr/picnic_relativearr.npy\",allow_pickle=True)\n",
    "cat = np.load(\"relativearr/cat_relativearr.npy\",allow_pickle=True)\n",
    "clock = np.load(\"relativearr/clock_relativearr.npy\",allow_pickle=True)\n",
    "house = np.load(\"relativearr/house_relativearr.npy\",allow_pickle=True)\n",
    "kites = np.load(\"relativearr/kites_relativearr.npy\",allow_pickle=True)\n",
    "monalisa = np.load(\"relativearr/monalisa_relativearr.npy\",allow_pickle=True)\n",
    "rocket = np.load(\"relativearr/rocket_relativearr.npy\",allow_pickle=True)\n",
    "rosie = np.load(\"relativearr/rosie_relativearr.npy\",allow_pickle=True)\n",
    "square = np.load(\"relativearr/square_relativearr.npy\",allow_pickle=True)\n",
    "train = np.load(\"relativearr/train_relativearr.npy\",allow_pickle=True)\n",
    "garden = np.load(\"relativearr/garden_relativearr.npy\",allow_pickle=True)\n",
    "mountain = np.load(\"relativearr/mountain_relativearr.npy\",allow_pickle=True)\n",
    "italianvillage = np.load(\"relativearr/italianvillage_relativearr.npy\",allow_pickle=True)\n",
    "brokenegg = np.load(\"relativearr/brokenegg_relativearr.npy\",allow_pickle=True)\n",
    "dollar = np.load(\"relativearr/dollar_relativearr.npy\",allow_pickle=True)\n",
    "roses = np.load(\"relativearr/roses_relativearr.npy\",allow_pickle=True)\n",
    "manybugs = np.load(\"relativearr/many_bugs_relativearr.npy\",allow_pickle=True)"
   ]
  },
  {
   "cell_type": "code",
   "execution_count": 210,
   "metadata": {},
   "outputs": [
    {
     "name": "stdout",
     "output_type": "stream",
     "text": [
      "96\n",
      "84\n",
      "72\n",
      "48\n",
      "40\n",
      "40\n",
      "24\n",
      "48\n",
      "40\n",
      "36\n",
      "40\n",
      "32\n",
      "100\n",
      "80\n",
      "48\n",
      "60\n",
      "72\n"
     ]
    }
   ],
   "source": [
    "print(len(bread))\n",
    "print(len(night))\n",
    "print(len(picnic))\n",
    "print(len(cat))\n",
    "print(len(clock))\n",
    "print(len(house))\n",
    "print(len(kites))\n",
    "print(len(monalisa))\n",
    "print(len(rocket))\n",
    "print(len(rosie))\n",
    "print(len(square))\n",
    "print(len(train))\n",
    "print(len(garden))\n",
    "print(len(mountain))\n",
    "print(len(italianvillage))\n",
    "print(len(brokenegg))\n",
    "print(len(dollar))\n",
    "print(len(roses))\n",
    "print(len(manybugs))\n",
    "\n"
   ]
  },
  {
   "cell_type": "code",
   "execution_count": 244,
   "metadata": {},
   "outputs": [
    {
     "data": {
      "text/plain": [
       "1056"
      ]
     },
     "execution_count": 244,
     "metadata": {},
     "output_type": "execute_result"
    }
   ],
   "source": [
    "combined = np.concatenate((bread, night, picnic, cat, clock, house, kites, monalisa, rocket, rosie, square, train, garden, mountain, italianvillage, brokenegg, dollar, roses, manybugs))\n",
    "len(combined)"
   ]
  },
  {
   "cell_type": "code",
   "execution_count": 245,
   "metadata": {},
   "outputs": [],
   "source": [
    "max = 0\n",
    "for i in combined:\n",
    "    if(len(i[0])>max):\n",
    "        max = len(i[0])"
   ]
  },
  {
   "cell_type": "code",
   "execution_count": 246,
   "metadata": {},
   "outputs": [
    {
     "name": "stdout",
     "output_type": "stream",
     "text": [
      "1222\n"
     ]
    }
   ],
   "source": [
    "print(max)"
   ]
  },
  {
   "cell_type": "code",
   "execution_count": 247,
   "metadata": {},
   "outputs": [],
   "source": [
    "for i in combined:\n",
    "    i[0] = np.pad(i[0], (0, max-len(i[0])), \"constant\", constant_values=0)"
   ]
  },
  {
   "cell_type": "code",
   "execution_count": 248,
   "metadata": {},
   "outputs": [],
   "source": [
    "column = []\n",
    "for i in range(max):\n",
    "    column.append(str(i))"
   ]
  },
  {
   "cell_type": "code",
   "execution_count": 249,
   "metadata": {},
   "outputs": [
    {
     "name": "stdout",
     "output_type": "stream",
     "text": [
      "1222\n"
     ]
    }
   ],
   "source": [
    "print(len(combined[10][0]))"
   ]
  },
  {
   "cell_type": "code",
   "execution_count": 250,
   "metadata": {},
   "outputs": [],
   "source": [
    "data = [c[0] for c in (combined[:,0:1])]"
   ]
  },
  {
   "cell_type": "code",
   "execution_count": 251,
   "metadata": {},
   "outputs": [
    {
     "name": "stdout",
     "output_type": "stream",
     "text": [
      "1222\n"
     ]
    }
   ],
   "source": [
    "print(len(data[0]))"
   ]
  },
  {
   "cell_type": "code",
   "execution_count": 252,
   "metadata": {},
   "outputs": [],
   "source": [
    "\n",
    "df = pd.DataFrame(data, columns=column)"
   ]
  },
  {
   "cell_type": "code",
   "execution_count": 253,
   "metadata": {},
   "outputs": [
    {
     "name": "stdout",
     "output_type": "stream",
     "text": [
      "      0  1  2  3  4  5  6  7  8  9  ...  1212  1213  1214  1215  1216  1217  \\\n",
      "0     1  0  0  1  0  0  0  1  0  0  ...     0     0     0     0     0     0   \n",
      "1     0  1  0  1  0  0  0  0  0  0  ...     0     0     0     0     0     0   \n",
      "2     1  0  1  0  0  0  1  0  0  0  ...     0     0     0     0     0     0   \n",
      "3     0  0  0  0  0  0  0  0  0  0  ...     0     0     0     0     0     0   \n",
      "4     0  1  0  0  0  0  0  0  0  0  ...     0     0     0     0     0     0   \n",
      "...  .. .. .. .. .. .. .. .. .. ..  ...   ...   ...   ...   ...   ...   ...   \n",
      "1051  0  0  0  0  0  0  0  0  0  0  ...     0     0     0     0     0     0   \n",
      "1052  1  1  0  1  1  1  1  1  1  1  ...     0     0     0     0     0     0   \n",
      "1053  0  0  0  0  0  0  0  0  0  0  ...     0     0     0     0     0     0   \n",
      "1054  1  1  0  0  1  0  0  1  0  0  ...     0     0     0     0     0     0   \n",
      "1055  1  1  1  0  1  0  1  0  0  1  ...     0     0     0     0     0     0   \n",
      "\n",
      "      1218  1219  1220  1221  \n",
      "0        0     0     0     0  \n",
      "1        0     0     0     0  \n",
      "2        0     0     0     0  \n",
      "3        0     0     0     0  \n",
      "4        0     0     0     0  \n",
      "...    ...   ...   ...   ...  \n",
      "1051     0     0     0     0  \n",
      "1052     0     0     0     0  \n",
      "1053     0     0     0     0  \n",
      "1054     0     0     0     0  \n",
      "1055     0     0     0     0  \n",
      "\n",
      "[1056 rows x 1222 columns]\n"
     ]
    }
   ],
   "source": [
    "print(df)"
   ]
  },
  {
   "cell_type": "code",
   "execution_count": 254,
   "metadata": {},
   "outputs": [],
   "source": [
    "label = combined[:,1]"
   ]
  },
  {
   "cell_type": "code",
   "execution_count": 255,
   "metadata": {},
   "outputs": [],
   "source": [
    "df_y = pd.DataFrame(label, columns=[\"y\"])"
   ]
  },
  {
   "cell_type": "code",
   "execution_count": 256,
   "metadata": {},
   "outputs": [
    {
     "name": "stdout",
     "output_type": "stream",
     "text": [
      "      y\n",
      "0     1\n",
      "1     1\n",
      "2     2\n",
      "3     1\n",
      "4     0\n",
      "...  ..\n",
      "1051  0\n",
      "1052  2\n",
      "1053  2\n",
      "1054  0\n",
      "1055  0\n",
      "\n",
      "[1056 rows x 1 columns]\n"
     ]
    }
   ],
   "source": [
    "print(df_y)"
   ]
  },
  {
   "cell_type": "code",
   "execution_count": 259,
   "metadata": {},
   "outputs": [
    {
     "name": "stderr",
     "output_type": "stream",
     "text": [
      "C:\\Users\\patel\\AppData\\Local\\Packages\\PythonSoftwareFoundation.Python.3.10_qbz5n2kfra8p0\\LocalCache\\local-packages\\Python310\\site-packages\\sklearn\\preprocessing\\_label.py:114: DataConversionWarning: A column-vector y was passed when a 1d array was expected. Please change the shape of y to (n_samples, ), for example using ravel().\n",
      "  y = column_or_1d(y, warn=True)\n"
     ]
    },
    {
     "name": "stdout",
     "output_type": "stream",
     "text": [
      "0\n"
     ]
    }
   ],
   "source": [
    "model = LogisticRegression(multi_class='multinomial', solver='lbfgs')\n",
    "\n",
    "lab = preprocessing.LabelEncoder()\n",
    "y_transformed = lab.fit_transform(df_y)\n",
    "\n",
    "model.fit(df, y_transformed)\n",
    "prediction = model.predict(df)\n",
    "\n",
    "print(sum(prediction-y_transformed))\n",
    "# print(y_transformed)\n",
    "\n",
    "# cv = RepeatedStratifiedKFold(n_splits=10, n_repeats=3, random_state=10)\n",
    "# # evaluate the model and collect the scores\n",
    "# n_scores = cross_val_score(model, df, y_transformed, scoring='accuracy', cv=cv, n_jobs=-1)"
   ]
  },
  {
   "cell_type": "code",
   "execution_count": 260,
   "metadata": {},
   "outputs": [
    {
     "name": "stdout",
     "output_type": "stream",
     "text": [
      "Mean Accuracy: 0.941 (0.019)\n"
     ]
    }
   ],
   "source": [
    "print('Mean Accuracy: %.3f (%.3f)' % (np.mean(n_scores), np.std(n_scores)))"
   ]
  },
  {
   "cell_type": "code",
   "execution_count": 261,
   "metadata": {},
   "outputs": [],
   "source": [
    "filename = 'relativearr/relativearr_model.sav'\n",
    "pickle.dump(model, open(filename, 'wb'))"
   ]
  },
  {
   "cell_type": "code",
   "execution_count": 262,
   "metadata": {},
   "outputs": [
    {
     "name": "stdout",
     "output_type": "stream",
     "text": [
      "0\n"
     ]
    }
   ],
   "source": [
    "loaded_model = pickle.load(open(filename, 'rb'))\n",
    "prediction = loaded_model.predict(df)\n",
    "\n",
    "print(sum(prediction-y_transformed))"
   ]
  }
 ],
 "metadata": {
  "kernelspec": {
   "display_name": "Python 3",
   "language": "python",
   "name": "python3"
  },
  "language_info": {
   "codemirror_mode": {
    "name": "ipython",
    "version": 3
   },
   "file_extension": ".py",
   "mimetype": "text/x-python",
   "name": "python",
   "nbconvert_exporter": "python",
   "pygments_lexer": "ipython3",
   "version": "3.10.11"
  }
 },
 "nbformat": 4,
 "nbformat_minor": 2
}
