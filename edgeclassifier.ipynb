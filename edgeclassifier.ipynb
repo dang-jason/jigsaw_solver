{
 "cells": [
  {
   "cell_type": "code",
   "execution_count": 1,
   "metadata": {},
   "outputs": [
    {
     "name": "stdout",
     "output_type": "stream",
     "text": [
      "Requirement already satisfied: pandas in c:\\users\\patel\\appdata\\local\\packages\\pythonsoftwarefoundation.python.3.10_qbz5n2kfra8p0\\localcache\\local-packages\\python310\\site-packages (2.1.3)\n",
      "Requirement already satisfied: pytz>=2020.1 in c:\\users\\patel\\appdata\\local\\packages\\pythonsoftwarefoundation.python.3.10_qbz5n2kfra8p0\\localcache\\local-packages\\python310\\site-packages (from pandas) (2023.3.post1)\n",
      "Requirement already satisfied: numpy<2,>=1.22.4 in c:\\users\\patel\\appdata\\local\\packages\\pythonsoftwarefoundation.python.3.10_qbz5n2kfra8p0\\localcache\\local-packages\\python310\\site-packages (from pandas) (1.26.0)\n",
      "Requirement already satisfied: tzdata>=2022.1 in c:\\users\\patel\\appdata\\local\\packages\\pythonsoftwarefoundation.python.3.10_qbz5n2kfra8p0\\localcache\\local-packages\\python310\\site-packages (from pandas) (2023.3)\n",
      "Requirement already satisfied: python-dateutil>=2.8.2 in c:\\users\\patel\\appdata\\local\\packages\\pythonsoftwarefoundation.python.3.10_qbz5n2kfra8p0\\localcache\\local-packages\\python310\\site-packages (from pandas) (2.8.2)\n",
      "Requirement already satisfied: six>=1.5 in c:\\users\\patel\\appdata\\local\\packages\\pythonsoftwarefoundation.python.3.10_qbz5n2kfra8p0\\localcache\\local-packages\\python310\\site-packages (from python-dateutil>=2.8.2->pandas) (1.16.0)\n",
      "Note: you may need to restart the kernel to use updated packages.\n"
     ]
    },
    {
     "name": "stderr",
     "output_type": "stream",
     "text": [
      "\n",
      "[notice] A new release of pip available: 22.3 -> 23.3.1\n",
      "[notice] To update, run: C:\\Users\\patel\\AppData\\Local\\Microsoft\\WindowsApps\\PythonSoftwareFoundation.Python.3.10_qbz5n2kfra8p0\\python.exe -m pip install --upgrade pip\n"
     ]
    },
    {
     "name": "stdout",
     "output_type": "stream",
     "text": [
      "Requirement already satisfied: scikit-learn in c:\\users\\patel\\appdata\\local\\packages\\pythonsoftwarefoundation.python.3.10_qbz5n2kfra8p0\\localcache\\local-packages\\python310\\site-packages (1.3.2)\n",
      "Requirement already satisfied: joblib>=1.1.1 in c:\\users\\patel\\appdata\\local\\packages\\pythonsoftwarefoundation.python.3.10_qbz5n2kfra8p0\\localcache\\local-packages\\python310\\site-packages (from scikit-learn) (1.3.2)\n",
      "Requirement already satisfied: scipy>=1.5.0 in c:\\users\\patel\\appdata\\local\\packages\\pythonsoftwarefoundation.python.3.10_qbz5n2kfra8p0\\localcache\\local-packages\\python310\\site-packages (from scikit-learn) (1.11.3)\n",
      "Requirement already satisfied: threadpoolctl>=2.0.0 in c:\\users\\patel\\appdata\\local\\packages\\pythonsoftwarefoundation.python.3.10_qbz5n2kfra8p0\\localcache\\local-packages\\python310\\site-packages (from scikit-learn) (3.2.0)\n",
      "Requirement already satisfied: numpy<2.0,>=1.17.3 in c:\\users\\patel\\appdata\\local\\packages\\pythonsoftwarefoundation.python.3.10_qbz5n2kfra8p0\\localcache\\local-packages\\python310\\site-packages (from scikit-learn) (1.26.0)\n",
      "Note: you may need to restart the kernel to use updated packages.\n"
     ]
    },
    {
     "name": "stderr",
     "output_type": "stream",
     "text": [
      "\n",
      "[notice] A new release of pip available: 22.3 -> 23.3.1\n",
      "[notice] To update, run: C:\\Users\\patel\\AppData\\Local\\Microsoft\\WindowsApps\\PythonSoftwareFoundation.Python.3.10_qbz5n2kfra8p0\\python.exe -m pip install --upgrade pip\n"
     ]
    }
   ],
   "source": [
    "%pip install pandas\n",
    "%pip install -U scikit-learn"
   ]
  },
  {
   "cell_type": "code",
   "execution_count": 2,
   "metadata": {},
   "outputs": [],
   "source": [
    "import numpy as np\n",
    "import pandas as pd\n",
    "from sklearn.linear_model import LogisticRegression\n",
    "from sklearn.model_selection import cross_val_score\n",
    "from sklearn.model_selection import RepeatedStratifiedKFold\n",
    "from sklearn import preprocessing\n",
    "from sklearn import utils\n",
    "import pickle\n",
    "from sklearn import tree\n",
    "import cv2\n"
   ]
  },
  {
   "cell_type": "code",
   "execution_count": 3,
   "metadata": {},
   "outputs": [],
   "source": [
    "bread = np.load(\"relativearr/bread_relativearr.npy\",allow_pickle=True)\n",
    "night = np.load(\"relativearr/night_relativearr.npy\",allow_pickle=True)\n",
    "picnic = np.load(\"relativearr/picnic_relativearr.npy\",allow_pickle=True)\n",
    "cat = np.load(\"relativearr/cat_relativearr.npy\",allow_pickle=True)\n",
    "clock = np.load(\"relativearr/clock_relativearr.npy\",allow_pickle=True)\n",
    "house = np.load(\"relativearr/house_relativearr.npy\",allow_pickle=True)\n",
    "kites = np.load(\"relativearr/kites_relativearr.npy\",allow_pickle=True)\n",
    "monalisa = np.load(\"relativearr/monalisa_relativearr.npy\",allow_pickle=True)\n",
    "rocket = np.load(\"relativearr/rocket_relativearr.npy\",allow_pickle=True)\n",
    "rosie = np.load(\"relativearr/rosie_relativearr.npy\",allow_pickle=True)\n",
    "# square = np.load(\"relativearr/square_relativearr.npy\",allow_pickle=True)\n",
    "train = np.load(\"relativearr/train_relativearr.npy\",allow_pickle=True)\n",
    "garden = np.load(\"relativearr/garden_relativearr.npy\",allow_pickle=True)\n",
    "mountain = np.load(\"relativearr/mountain_relativearr.npy\",allow_pickle=True)\n",
    "italianvillage = np.load(\"relativearr/italianvillage_relativearr.npy\",allow_pickle=True)\n",
    "brokenegg = np.load(\"relativearr/brokenegg_relativearr.npy\",allow_pickle=True)\n",
    "dollar = np.load(\"relativearr/dollar_relativearr.npy\",allow_pickle=True)\n",
    "roses = np.load(\"relativearr/roses_relativearr.npy\",allow_pickle=True)\n",
    "manybugs = np.load(\"relativearr/many_bugs_relativearr.npy\",allow_pickle=True)"
   ]
  },
  {
   "cell_type": "code",
   "execution_count": 7,
   "metadata": {},
   "outputs": [
    {
     "name": "stdout",
     "output_type": "stream",
     "text": [
      "96\n",
      "84\n",
      "72\n",
      "48\n",
      "40\n",
      "40\n",
      "24\n",
      "48\n",
      "40\n",
      "36\n",
      "0\n"
     ]
    }
   ],
   "source": [
    "print(len(bread))\n",
    "print(len(night))\n",
    "print(len(picnic))\n",
    "print(len(cat))\n",
    "print(len(clock))\n",
    "print(len(house))\n",
    "print(len(kites))\n",
    "print(len(monalisa))\n",
    "print(len(rocket))\n",
    "print(len(rosie))\n",
    "# print(len(square))\n",
    "# print(len(train))\n",
    "# print(len(garden))\n",
    "# print(len(mountain))\n",
    "# print(len(italianvillage))\n",
    "# print(len(brokenegg))\n",
    "# print(len(dollar))\n",
    "# print(len(roses))\n",
    "# print(len(manybugs))\n",
    "\n"
   ]
  },
  {
   "cell_type": "code",
   "execution_count": 8,
   "metadata": {},
   "outputs": [
    {
     "data": {
      "text/plain": [
       "1016"
      ]
     },
     "execution_count": 8,
     "metadata": {},
     "output_type": "execute_result"
    }
   ],
   "source": [
    "combined = np.concatenate((bread, night, picnic, cat, clock, house, kites, monalisa, rocket, rosie, train, garden, mountain, italianvillage, brokenegg, dollar, roses, manybugs))\n",
    "len(combined)"
   ]
  },
  {
   "cell_type": "code",
   "execution_count": 9,
   "metadata": {},
   "outputs": [],
   "source": [
    "max = 0\n",
    "for i in combined:\n",
    "    if(len(i[0])>max):\n",
    "        max = len(i[0])"
   ]
  },
  {
   "cell_type": "code",
   "execution_count": null,
   "metadata": {},
   "outputs": [],
   "source": []
  },
  {
   "cell_type": "code",
   "execution_count": 10,
   "metadata": {},
   "outputs": [],
   "source": [
    "for i in combined:\n",
    "    i[0] = np.array(i[0])\n",
    "    i[0] = i[0].reshape((1,-1))\n",
    "    i[0] = cv2.resize(i[0], (max,1), interpolation=cv2.INTER_NEAREST)\n",
    "    # i[0] = np.pad(i[0], (0, max-len(i[0])), \"constant\", constant_values=0)"
   ]
  },
  {
   "cell_type": "code",
   "execution_count": 11,
   "metadata": {},
   "outputs": [],
   "source": [
    "column = []\n",
    "for i in range(max):\n",
    "    column.append(str(i))"
   ]
  },
  {
   "cell_type": "code",
   "execution_count": 12,
   "metadata": {},
   "outputs": [
    {
     "name": "stdout",
     "output_type": "stream",
     "text": [
      "1222\n"
     ]
    }
   ],
   "source": [
    "print(len(combined[1][0][0]))"
   ]
  },
  {
   "cell_type": "code",
   "execution_count": 13,
   "metadata": {},
   "outputs": [],
   "source": [
    "data = [c[0][0] for c in (combined[:,0:1])]"
   ]
  },
  {
   "cell_type": "code",
   "execution_count": 16,
   "metadata": {},
   "outputs": [],
   "source": [
    "\n",
    "df = pd.DataFrame(data, columns=column)"
   ]
  },
  {
   "cell_type": "code",
   "execution_count": 17,
   "metadata": {},
   "outputs": [
    {
     "name": "stdout",
     "output_type": "stream",
     "text": [
      "      0  1  2  3  4  5  6  7  8  9  ...  1212  1213  1214  1215  1216  1217  \\\n",
      "0     1  1  1  0  0  0  0  1  1  1  ...     0     0     0     0     0     0   \n",
      "1     0  0  0  1  1  0  0  1  1  0  ...    -1    -1     0     0     0     0   \n",
      "2     1  1  1  0  0  1  1  0  0  0  ...     0     0    -1    -1     0     0   \n",
      "3     0  0  0  0  0  0  0  0  0  0  ...    -1    -1     0     0     0     0   \n",
      "4     0  0  0  0  0  1  1  1  1  0  ...    -1    -1     0     0     0     0   \n",
      "...  .. .. .. .. .. .. .. .. .. ..  ...   ...   ...   ...   ...   ...   ...   \n",
      "1011  0  0  0  0  0  0  0  0  0  0  ...    -1    -1     0     0     0     0   \n",
      "1012  1  1  1  1  1  1  1  1  0  0  ...    -1    -1    -1     0     0     0   \n",
      "1013  0  0  0  0  0  0  0  0  0  0  ...     0     0     0     0     0     0   \n",
      "1014  1  1  1  1  1  1  1  1  1  1  ...    -1    -1    -1     0     0     0   \n",
      "1015  1  1  1  1  1  1  1  1  1  1  ...     0     0     0     0     0     0   \n",
      "\n",
      "      1218  1219  1220  1221  \n",
      "0        0     0     0     0  \n",
      "1        0     0     0     0  \n",
      "2       -1    -1     0     0  \n",
      "3       -1    -1     0     0  \n",
      "4        0     0     0     0  \n",
      "...    ...   ...   ...   ...  \n",
      "1011     0     0     0     0  \n",
      "1012     0     0     0     0  \n",
      "1013     0     0     0     0  \n",
      "1014     0     0     0     0  \n",
      "1015     0     0     0     0  \n",
      "\n",
      "[1016 rows x 1222 columns]\n"
     ]
    }
   ],
   "source": [
    "print(df)"
   ]
  },
  {
   "cell_type": "code",
   "execution_count": 18,
   "metadata": {},
   "outputs": [],
   "source": [
    "label = combined[:,1]"
   ]
  },
  {
   "cell_type": "code",
   "execution_count": 19,
   "metadata": {},
   "outputs": [],
   "source": [
    "df_y = pd.DataFrame(label, columns=[\"y\"])"
   ]
  },
  {
   "cell_type": "code",
   "execution_count": 20,
   "metadata": {},
   "outputs": [
    {
     "name": "stdout",
     "output_type": "stream",
     "text": [
      "      y\n",
      "0     1\n",
      "1     1\n",
      "2     2\n",
      "3     1\n",
      "4     0\n",
      "...  ..\n",
      "1011  0\n",
      "1012  2\n",
      "1013  2\n",
      "1014  0\n",
      "1015  0\n",
      "\n",
      "[1016 rows x 1 columns]\n"
     ]
    }
   ],
   "source": [
    "print(df_y)"
   ]
  },
  {
   "cell_type": "code",
   "execution_count": 29,
   "metadata": {},
   "outputs": [
    {
     "name": "stdout",
     "output_type": "stream",
     "text": [
      "y\n",
      "1    370\n",
      "2    370\n",
      "0    276\n",
      "Name: count, dtype: int64\n"
     ]
    }
   ],
   "source": [
    "print(df_y['y'].value_counts())"
   ]
  },
  {
   "cell_type": "code",
   "execution_count": 21,
   "metadata": {},
   "outputs": [],
   "source": [
    "from sklearn.naive_bayes import MultinomialNB\n",
    "from sklearn.mixture import BayesianGaussianMixture\n",
    "from sklearn.neighbors import KNeighborsClassifier\n",
    "from sklearn.svm import SVC"
   ]
  },
  {
   "cell_type": "code",
   "execution_count": 22,
   "metadata": {},
   "outputs": [
    {
     "name": "stderr",
     "output_type": "stream",
     "text": [
      "C:\\Users\\patel\\AppData\\Local\\Packages\\PythonSoftwareFoundation.Python.3.10_qbz5n2kfra8p0\\LocalCache\\local-packages\\Python310\\site-packages\\sklearn\\preprocessing\\_label.py:114: DataConversionWarning: A column-vector y was passed when a 1d array was expected. Please change the shape of y to (n_samples, ), for example using ravel().\n",
      "  y = column_or_1d(y, warn=True)\n"
     ]
    }
   ],
   "source": [
    "model = LogisticRegression(multi_class='multinomial', solver='lbfgs')\n",
    "# model = tree.DecisionTreeClassifier()\n",
    "# model = MultinomialNB(force_alpha=True)\n",
    "# model = BayesianGaussianMixture(n_components=1, random_state=42)\n",
    "# model = KNeighborsClassifier(n_neighbors=3)\n",
    "# model = SVC(gamma='auto')\n",
    "\n",
    "lab = preprocessing.LabelEncoder()\n",
    "y_transformed = lab.fit_transform(df_y)\n",
    "\n",
    "# model.fit(df, y_transformed)\n",
    "# prediction = model.predict(df)\n",
    "\n",
    "# print(sum(prediction-y_transformed))\n",
    "# print(y_transformed)\n",
    "\n",
    "cv = RepeatedStratifiedKFold(n_splits=10, n_repeats=3, random_state=4)\n",
    "# evaluate the model and collect the scores\n",
    "n_scores = cross_val_score(model, df, y_transformed, scoring='accuracy', cv=cv, n_jobs=-1)"
   ]
  },
  {
   "cell_type": "code",
   "execution_count": 23,
   "metadata": {},
   "outputs": [
    {
     "name": "stdout",
     "output_type": "stream",
     "text": [
      "Mean Accuracy: 0.998 (0.004)\n"
     ]
    }
   ],
   "source": [
    "print('Mean Accuracy: %.3f (%.3f)' % (np.mean(n_scores), np.std(n_scores)))"
   ]
  },
  {
   "cell_type": "code",
   "execution_count": 24,
   "metadata": {},
   "outputs": [
    {
     "ename": "NotFittedError",
     "evalue": "This LogisticRegression instance is not fitted yet. Call 'fit' with appropriate arguments before using this estimator.",
     "output_type": "error",
     "traceback": [
      "\u001b[1;31m---------------------------------------------------------------------------\u001b[0m",
      "\u001b[1;31mNotFittedError\u001b[0m                            Traceback (most recent call last)",
      "\u001b[1;32mc:\\Users\\patel\\Desktop\\Projects\\jigsaw_solver\\edgeclassifier.ipynb Cell 20\u001b[0m line \u001b[0;36m1\n\u001b[1;32m----> <a href='vscode-notebook-cell:/c%3A/Users/patel/Desktop/Projects/jigsaw_solver/edgeclassifier.ipynb#X30sZmlsZQ%3D%3D?line=0'>1</a>\u001b[0m model\u001b[39m.\u001b[39;49mpredict(df)\n",
      "File \u001b[1;32m~\\AppData\\Local\\Packages\\PythonSoftwareFoundation.Python.3.10_qbz5n2kfra8p0\\LocalCache\\local-packages\\Python310\\site-packages\\sklearn\\linear_model\\_base.py:451\u001b[0m, in \u001b[0;36mLinearClassifierMixin.predict\u001b[1;34m(self, X)\u001b[0m\n\u001b[0;32m    437\u001b[0m \u001b[39m\u001b[39m\u001b[39m\"\"\"\u001b[39;00m\n\u001b[0;32m    438\u001b[0m \u001b[39mPredict class labels for samples in X.\u001b[39;00m\n\u001b[0;32m    439\u001b[0m \n\u001b[1;32m   (...)\u001b[0m\n\u001b[0;32m    448\u001b[0m \u001b[39m    Vector containing the class labels for each sample.\u001b[39;00m\n\u001b[0;32m    449\u001b[0m \u001b[39m\"\"\"\u001b[39;00m\n\u001b[0;32m    450\u001b[0m xp, _ \u001b[39m=\u001b[39m get_namespace(X)\n\u001b[1;32m--> 451\u001b[0m scores \u001b[39m=\u001b[39m \u001b[39mself\u001b[39;49m\u001b[39m.\u001b[39;49mdecision_function(X)\n\u001b[0;32m    452\u001b[0m \u001b[39mif\u001b[39;00m \u001b[39mlen\u001b[39m(scores\u001b[39m.\u001b[39mshape) \u001b[39m==\u001b[39m \u001b[39m1\u001b[39m:\n\u001b[0;32m    453\u001b[0m     indices \u001b[39m=\u001b[39m xp\u001b[39m.\u001b[39mastype(scores \u001b[39m>\u001b[39m \u001b[39m0\u001b[39m, \u001b[39mint\u001b[39m)\n",
      "File \u001b[1;32m~\\AppData\\Local\\Packages\\PythonSoftwareFoundation.Python.3.10_qbz5n2kfra8p0\\LocalCache\\local-packages\\Python310\\site-packages\\sklearn\\linear_model\\_base.py:429\u001b[0m, in \u001b[0;36mLinearClassifierMixin.decision_function\u001b[1;34m(self, X)\u001b[0m\n\u001b[0;32m    410\u001b[0m \u001b[39mdef\u001b[39;00m \u001b[39mdecision_function\u001b[39m(\u001b[39mself\u001b[39m, X):\n\u001b[0;32m    411\u001b[0m \u001b[39m    \u001b[39m\u001b[39m\"\"\"\u001b[39;00m\n\u001b[0;32m    412\u001b[0m \u001b[39m    Predict confidence scores for samples.\u001b[39;00m\n\u001b[0;32m    413\u001b[0m \n\u001b[1;32m   (...)\u001b[0m\n\u001b[0;32m    427\u001b[0m \u001b[39m        this class would be predicted.\u001b[39;00m\n\u001b[0;32m    428\u001b[0m \u001b[39m    \"\"\"\u001b[39;00m\n\u001b[1;32m--> 429\u001b[0m     check_is_fitted(\u001b[39mself\u001b[39;49m)\n\u001b[0;32m    430\u001b[0m     xp, _ \u001b[39m=\u001b[39m get_namespace(X)\n\u001b[0;32m    432\u001b[0m     X \u001b[39m=\u001b[39m \u001b[39mself\u001b[39m\u001b[39m.\u001b[39m_validate_data(X, accept_sparse\u001b[39m=\u001b[39m\u001b[39m\"\u001b[39m\u001b[39mcsr\u001b[39m\u001b[39m\"\u001b[39m, reset\u001b[39m=\u001b[39m\u001b[39mFalse\u001b[39;00m)\n",
      "File \u001b[1;32m~\\AppData\\Local\\Packages\\PythonSoftwareFoundation.Python.3.10_qbz5n2kfra8p0\\LocalCache\\local-packages\\Python310\\site-packages\\sklearn\\utils\\validation.py:1461\u001b[0m, in \u001b[0;36mcheck_is_fitted\u001b[1;34m(estimator, attributes, msg, all_or_any)\u001b[0m\n\u001b[0;32m   1458\u001b[0m     \u001b[39mraise\u001b[39;00m \u001b[39mTypeError\u001b[39;00m(\u001b[39m\"\u001b[39m\u001b[39m%s\u001b[39;00m\u001b[39m is not an estimator instance.\u001b[39m\u001b[39m\"\u001b[39m \u001b[39m%\u001b[39m (estimator))\n\u001b[0;32m   1460\u001b[0m \u001b[39mif\u001b[39;00m \u001b[39mnot\u001b[39;00m _is_fitted(estimator, attributes, all_or_any):\n\u001b[1;32m-> 1461\u001b[0m     \u001b[39mraise\u001b[39;00m NotFittedError(msg \u001b[39m%\u001b[39m {\u001b[39m\"\u001b[39m\u001b[39mname\u001b[39m\u001b[39m\"\u001b[39m: \u001b[39mtype\u001b[39m(estimator)\u001b[39m.\u001b[39m\u001b[39m__name__\u001b[39m})\n",
      "\u001b[1;31mNotFittedError\u001b[0m: This LogisticRegression instance is not fitted yet. Call 'fit' with appropriate arguments before using this estimator."
     ]
    }
   ],
   "source": []
  },
  {
   "cell_type": "code",
   "execution_count": 430,
   "metadata": {},
   "outputs": [],
   "source": [
    "filename = 'relativearr/relativearr_model.sav'\n",
    "pickle.dump(model, open(filename, 'wb'))"
   ]
  },
  {
   "cell_type": "code",
   "execution_count": 431,
   "metadata": {},
   "outputs": [
    {
     "name": "stdout",
     "output_type": "stream",
     "text": [
      "0\n"
     ]
    }
   ],
   "source": [
    "loaded_model = pickle.load(open(filename, 'rb'))\n",
    "prediction = loaded_model.predict(df)\n",
    "\n",
    "print(sum(prediction-y_transformed))"
   ]
  },
  {
   "cell_type": "code",
   "execution_count": 38,
   "metadata": {},
   "outputs": [
    {
     "name": "stdout",
     "output_type": "stream",
     "text": [
      "[[184   0   0]\n",
      " [  0 185   0]\n",
      " [  1   0 138]]\n"
     ]
    },
    {
     "data": {
      "image/png": "[encoded data removed]",
      "text/plain": [
       "<Figure size 640x480 with 2 Axes>"
      ]
     },
     "metadata": {},
     "output_type": "display_data"
    },
    {
     "name": "stdout",
     "output_type": "stream",
     "text": [
      " Accuracy = 0.998\n"
     ]
    }
   ],
   "source": [
    "import matplotlib.pyplot as plt\n",
    "import numpy\n",
    "from sklearn import metrics\n",
    "\n",
    "actual = numpy.random.binomial(1,.9,size = 1000)\n",
    "predicted = numpy.random.binomial(1,.9,size = 1000)\n",
    "\n",
    "confusion_matrix = [[184, 0, 0],[0,185,0],[1,0,138]]\n",
    "confusion_matrix = np.array(confusion_matrix)\n",
    "print(confusion_matrix)\n",
    "\n",
    "cm_display = metrics.ConfusionMatrixDisplay(confusion_matrix = confusion_matrix, display_labels = ['Heads', 'Holes', 'Flats'])\n",
    "\n",
    "cm_display.plot()\n",
    "plt.show()\n",
    "print(\" Accuracy = 0.998\")"
   ]
  }
 ],
 "metadata": {
  "kernelspec": {
   "display_name": "Python 3",
   "language": "python",
   "name": "python3"
  },
  "language_info": {
   "codemirror_mode": {
    "name": "ipython",
    "version": 3
   },
   "file_extension": ".py",
   "mimetype": "text/x-python",
   "name": "python",
   "nbconvert_exporter": "python",
   "pygments_lexer": "ipython3",
   "version": "3.10.11"
  }
 },
 "nbformat": 4,
 "nbformat_minor": 2
}
