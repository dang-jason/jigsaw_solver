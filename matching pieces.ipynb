{
 "cells": [
  {
   "cell_type": "code",
   "execution_count": 15,
   "metadata": {},
   "outputs": [],
   "source": [
    "# %pip install ipynb\n",
    "# %pip install import-ipynb"
   ]
  },
  {
   "cell_type": "code",
   "execution_count": 21,
   "metadata": {},
   "outputs": [],
   "source": [
    "# imports all functions from background_removing\n",
    "from ipynb.fs.defs.background_removing import *\n"
   ]
  },
  {
   "cell_type": "markdown",
   "metadata": {},
   "source": [
    "Order to matching puzzle pieces:\n",
    "1. Create a class for the puzzle pieces\n",
    "* class will have a list of 4 edges class\n",
    "2. Create an edges class\n",
    "* edges will have what type of edge it is and an array of every pixel that is part of the edge\n",
    "* it could also have a snippet of where the edge is\n",
    "* what relative side the edge was taken to the image"
   ]
  },
  {
   "cell_type": "code",
   "execution_count": null,
   "metadata": {},
   "outputs": [],
   "source": [
    "class Piece:\n",
    "    def __init__(self, edges):\n",
    "        edges = edges\n",
    "\n",
    "class Edge:\n",
    "    def __init__(self):\n",
    "        pass"
   ]
  },
  {
   "cell_type": "code",
   "execution_count": null,
   "metadata": {},
   "outputs": [],
   "source": []
  }
 ],
 "metadata": {
  "kernelspec": {
   "display_name": "Python 3",
   "language": "python",
   "name": "python3"
  },
  "language_info": {
   "codemirror_mode": {
    "name": "ipython",
    "version": 3
   },
   "file_extension": ".py",
   "mimetype": "text/x-python",
   "name": "python",
   "nbconvert_exporter": "python",
   "pygments_lexer": "ipython3",
   "version": "3.11.1"
  }
 },
 "nbformat": 4,
 "nbformat_minor": 2
}
